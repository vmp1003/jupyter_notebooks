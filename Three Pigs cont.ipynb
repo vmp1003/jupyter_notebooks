{
 "cells": [
  {
   "cell_type": "markdown",
   "metadata": {},
   "source": [
    "# Three Little Pigs"
   ]
  },
  {
   "cell_type": "code",
   "execution_count": 1,
   "metadata": {},
   "outputs": [
    {
     "name": "stdout",
     "output_type": "stream",
     "text": [
      "Please select a house to build: Straw, Stick or Brick   stick\n"
     ]
    }
   ],
   "source": [
    "pigs_house = input('Please select a house to build: Straw, Stick or Brick   ')\n",
    "\n",
    "while pigs_house.lower() not in ['straw', 'stick', 'brick']:\n",
    "    if pigs_house.lower() not in ['straw', 'stick', 'brick']:\n",
    "        print('Not valid, please try again')\n",
    "\n",
    "    pigs_house = input('Please select a house to build: Straw, Stick or Brick   ')\n"
   ]
  },
  {
   "cell_type": "code",
   "execution_count": 2,
   "metadata": {},
   "outputs": [],
   "source": [
    "from random import randrange"
   ]
  },
  {
   "cell_type": "code",
   "execution_count": 3,
   "metadata": {},
   "outputs": [],
   "source": [
    "player_score = 0"
   ]
  },
  {
   "cell_type": "code",
   "execution_count": 4,
   "metadata": {},
   "outputs": [],
   "source": [
    "wolves = {\n",
    "    'young': 6,\n",
    "    'old': 3,\n",
    "    'copd': 0,\n",
    "}\n",
    "\n",
    "houses = {\n",
    "    'straw': 1,\n",
    "    'stick': 4,\n",
    "    'brick': 7\n",
    "}"
   ]
  },
  {
   "cell_type": "code",
   "execution_count": 5,
   "metadata": {},
   "outputs": [
    {
     "data": {
      "text/plain": [
       "'stick'"
      ]
     },
     "execution_count": 5,
     "metadata": {},
     "output_type": "execute_result"
    }
   ],
   "source": [
    "pigs_house"
   ]
  },
  {
   "cell_type": "code",
   "execution_count": 6,
   "metadata": {},
   "outputs": [
    {
     "data": {
      "text/plain": [
       "0"
      ]
     },
     "execution_count": 6,
     "metadata": {},
     "output_type": "execute_result"
    }
   ],
   "source": [
    "player_score"
   ]
  },
  {
   "cell_type": "code",
   "execution_count": 7,
   "metadata": {},
   "outputs": [
    {
     "data": {
      "text/plain": [
       "{'straw': 1, 'stick': 4, 'brick': 7}"
      ]
     },
     "execution_count": 7,
     "metadata": {},
     "output_type": "execute_result"
    }
   ],
   "source": [
    "houses"
   ]
  },
  {
   "cell_type": "code",
   "execution_count": 8,
   "metadata": {},
   "outputs": [
    {
     "data": {
      "text/plain": [
       "{'young': 6, 'old': 3, 'copd': 0}"
      ]
     },
     "execution_count": 8,
     "metadata": {},
     "output_type": "execute_result"
    }
   ],
   "source": [
    "wolves"
   ]
  },
  {
   "cell_type": "code",
   "execution_count": 9,
   "metadata": {},
   "outputs": [],
   "source": [
    "house_up = True"
   ]
  },
  {
   "cell_type": "code",
   "execution_count": 10,
   "metadata": {},
   "outputs": [],
   "source": [
    "house_points = {\n",
    "    'straw': 4,\n",
    "    'stick': 2,\n",
    "    'brick':1\n",
    "}"
   ]
  },
  {
   "cell_type": "code",
   "execution_count": 11,
   "metadata": {},
   "outputs": [
    {
     "data": {
      "text/plain": [
       "'old'"
      ]
     },
     "execution_count": 11,
     "metadata": {},
     "output_type": "execute_result"
    }
   ],
   "source": [
    "list(wolves.keys())[randrange(3)]"
   ]
  },
  {
   "cell_type": "code",
   "execution_count": 12,
   "metadata": {},
   "outputs": [
    {
     "name": "stdout",
     "output_type": "stream",
     "text": [
      "Ready for Round 1. Press enter to continue...\n",
      "Along comes a young wolf!\n",
      "He huffs and puffs and ...\n",
      "Your stick house is blown down\n",
      "Game Over! You have scored 2 points!\n"
     ]
    }
   ],
   "source": [
    "i = 1 \n",
    "\n",
    "while house_up:\n",
    "    input('Ready for Round '+ str(i) + '. Press enter to continue...')\n",
    "    \n",
    "    i += 1\n",
    "    \n",
    "    current_wolf = list(wolves.keys())[randrange(3)]\n",
    "    print('Along comes a',current_wolf,'wolf!')\n",
    "    print('He huffs and puffs and ...')\n",
    "    if wolves[current_wolf] > houses[pigs_house]:\n",
    "        house_up = False\n",
    "        print('Your ' +pigs_house + ' house is blown down')\n",
    "    else:\n",
    "        print('Your ' +pigs_house + ' house is still up')\n",
    "        \n",
    "    if pigs_house.lower() == 'brick':\n",
    "        if randrange(10) > 8:\n",
    "            print('Oh No! An Earthquake! Your Brick house has been destroyed!')\n",
    "            house_up = False\n",
    "            \n",
    "    player_score += house_points[pigs_house]\n",
    "    \n",
    "print('Game Over! You have scored',player_score, 'points!')"
   ]
  }
 ],
 "metadata": {
  "kernelspec": {
   "display_name": "Python 3",
   "language": "python",
   "name": "python3"
  },
  "language_info": {
   "codemirror_mode": {
    "name": "ipython",
    "version": 3
   },
   "file_extension": ".py",
   "mimetype": "text/x-python",
   "name": "python",
   "nbconvert_exporter": "python",
   "pygments_lexer": "ipython3",
   "version": "3.8.3"
  }
 },
 "nbformat": 4,
 "nbformat_minor": 4
}
